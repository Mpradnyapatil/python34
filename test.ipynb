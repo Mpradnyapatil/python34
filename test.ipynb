{
 "cells": [
  {
   "cell_type": "code",
   "execution_count": null,
   "id": "16e719ce",
   "metadata": {},
   "outputs": [],
   "source": [
    "rule -- \n",
    "when more than _"
   ]
  },
  {
   "cell_type": "code",
   "execution_count": 7,
   "id": "347e8422",
   "metadata": {},
   "outputs": [],
   "source": [
    "PRODUCT_ID_FROM_US  = 101"
   ]
  },
  {
   "cell_type": "code",
   "execution_count": 8,
   "id": "1a0a118f",
   "metadata": {},
   "outputs": [
    {
     "data": {
      "text/plain": [
       "101"
      ]
     },
     "execution_count": 8,
     "metadata": {},
     "output_type": "execute_result"
    }
   ],
   "source": [
    "PRODUCT_ID_FROM_US"
   ]
  },
  {
   "cell_type": "code",
   "execution_count": 9,
   "id": "6ed41188",
   "metadata": {},
   "outputs": [],
   "source": [
    "a_B = 'mindtree'"
   ]
  },
  {
   "cell_type": "code",
   "execution_count": 10,
   "id": "2d0edba3",
   "metadata": {},
   "outputs": [
    {
     "data": {
      "text/plain": [
       "'mindtree'"
      ]
     },
     "execution_count": 10,
     "metadata": {},
     "output_type": "execute_result"
    }
   ],
   "source": [
    "a_B"
   ]
  },
  {
   "cell_type": "code",
   "execution_count": 11,
   "id": "21532e55",
   "metadata": {},
   "outputs": [],
   "source": [
    "installation\n",
    "software requirement\n"
   ]
  },
  {
   "cell_type": "code",
   "execution_count": null,
   "id": "c7fe6b79",
   "metadata": {},
   "outputs": [],
   "source": [
    "#Data type and Data Structure"
   ]
  }
 ],
 "metadata": {
  "kernelspec": {
   "display_name": "Python 3",
   "language": "python",
   "name": "python3"
  },
  "language_info": {
   "codemirror_mode": {
    "name": "ipython",
    "version": 3
   },
   "file_extension": ".py",
   "mimetype": "text/x-python",
   "name": "python",
   "nbconvert_exporter": "python",
   "pygments_lexer": "ipython3",
   "version": "3.8.8"
  }
 },
 "nbformat": 4,
 "nbformat_minor": 5
}
